{
  "nbformat": 4,
  "nbformat_minor": 0,
  "metadata": {
    "colab": {
      "provenance": [],
      "collapsed_sections": [
        "CDufL2hWUDeV",
        "NZYfpym9c43E",
        "FFtMRWq1dCJ0"
      ],
      "toc_visible": true
    },
    "kernelspec": {
      "name": "python3",
      "display_name": "Python 3"
    },
    "language_info": {
      "name": "python"
    }
  },
  "cells": [
    {
      "cell_type": "markdown",
      "source": [
        "### Скачиваем необходимые библиотеки"
      ],
      "metadata": {
        "id": "j0aYNWv-TJME"
      }
    },
    {
      "cell_type": "code",
      "source": [
        "!pip install requests\n",
        "!pip install beautifulsoup4"
      ],
      "metadata": {
        "colab": {
          "base_uri": "https://localhost:8080/"
        },
        "id": "vH1yDSHOha0n",
        "outputId": "d937398a-df79-4749-f9cf-6a97acbaaf7a"
      },
      "execution_count": 21,
      "outputs": [
        {
          "output_type": "stream",
          "name": "stdout",
          "text": [
            "Requirement already satisfied: requests in /usr/local/lib/python3.10/dist-packages (2.31.0)\n",
            "Requirement already satisfied: charset-normalizer<4,>=2 in /usr/local/lib/python3.10/dist-packages (from requests) (3.3.2)\n",
            "Requirement already satisfied: idna<4,>=2.5 in /usr/local/lib/python3.10/dist-packages (from requests) (3.6)\n",
            "Requirement already satisfied: urllib3<3,>=1.21.1 in /usr/local/lib/python3.10/dist-packages (from requests) (2.0.7)\n",
            "Requirement already satisfied: certifi>=2017.4.17 in /usr/local/lib/python3.10/dist-packages (from requests) (2023.11.17)\n",
            "Requirement already satisfied: beautifulsoup4 in /usr/local/lib/python3.10/dist-packages (4.11.2)\n",
            "Requirement already satisfied: soupsieve>1.2 in /usr/local/lib/python3.10/dist-packages (from beautifulsoup4) (2.5)\n"
          ]
        }
      ]
    },
    {
      "cell_type": "markdown",
      "source": [
        "### Импорты"
      ],
      "metadata": {
        "id": "CDufL2hWUDeV"
      }
    },
    {
      "cell_type": "code",
      "source": [
        "import requests\n",
        "from bs4 import BeautifulSoup\n",
        "\n",
        "import pandas as pd\n",
        "from time import sleep"
      ],
      "metadata": {
        "id": "ca2rxjMYhUEr"
      },
      "execution_count": 135,
      "outputs": []
    },
    {
      "cell_type": "markdown",
      "source": [
        "## Книгопоиск"
      ],
      "metadata": {
        "id": "BWKW2LxAULAL"
      }
    },
    {
      "cell_type": "markdown",
      "source": [
        "### Пример для одной книги на странице"
      ],
      "metadata": {
        "id": "NZYfpym9c43E"
      }
    },
    {
      "cell_type": "markdown",
      "source": [
        "#### Подготовка"
      ],
      "metadata": {
        "id": "FFtMRWq1dCJ0"
      }
    },
    {
      "cell_type": "markdown",
      "source": [
        "Берем ссылку на первую страницу, с которой хотим парсить информацию, помещаем в переменную url."
      ],
      "metadata": {
        "id": "8aLPugncUUtx"
      }
    },
    {
      "cell_type": "code",
      "source": [
        "url = \"https://knigopoisk.org/bookslist/200_luchshih_knig_po_versii_BBC\""
      ],
      "metadata": {
        "id": "5Q4dbSEjhrSR"
      },
      "execution_count": 26,
      "outputs": []
    },
    {
      "cell_type": "markdown",
      "source": [
        "Прописываем переменную **headers**, чтобы имитировать браузер.\n",
        "\n",
        "Есть вероятность, что получим мобильную версию сайта или версию сайта для ботов. Дабы избежать этого, нужно притвориться браузером. Для этого нужно зименить заголовки на заголовки браузеров Chrome/Mozilla и т.д. при парсинге.\n",
        "\n",
        "Также с помощью **timeout** снизим скорость запросов."
      ],
      "metadata": {
        "id": "HAmRJzDZUuNr"
      }
    },
    {
      "cell_type": "code",
      "source": [
        "headers = {\n",
        "    \"User-Agent\": \"Mozilla/5.0 (Windows NT 6.1; Win64; x64) AppleWebKit/537.36 (KHTML, like Gecko) Chrome/78.0.3904.87 Safari/537.36\",\n",
        "    \"Content-Type\":\"text\"\n",
        "}\n",
        "\n",
        "timeout=30"
      ],
      "metadata": {
        "id": "TJoZesf8cR7R"
      },
      "execution_count": 29,
      "outputs": []
    },
    {
      "cell_type": "markdown",
      "source": [
        "Отправляем запрос на сервер с помощью метода **.get()**, передав необходимые параметры."
      ],
      "metadata": {
        "id": "9inzT4DzV39O"
      }
    },
    {
      "cell_type": "code",
      "source": [
        "r = requests.get(url, timeout=timeout, headers=headers)"
      ],
      "metadata": {
        "id": "yELeh5TohrLz"
      },
      "execution_count": 30,
      "outputs": []
    },
    {
      "cell_type": "markdown",
      "source": [
        "Проверяем содержимое ответа с помощью атрибута **.text**."
      ],
      "metadata": {
        "id": "qdaq5PvNWKQz"
      }
    },
    {
      "cell_type": "code",
      "source": [
        "# r.text"
      ],
      "metadata": {
        "id": "VjweoP2vXoLn"
      },
      "execution_count": null,
      "outputs": []
    },
    {
      "cell_type": "markdown",
      "source": [
        "Создаем объект класса BeautifulSoup, в качестве параметров передаем полученный текст, и указываем формат, в котором нам должен будет вернуться ответ."
      ],
      "metadata": {
        "id": "fuY8JR57WjqL"
      }
    },
    {
      "cell_type": "code",
      "source": [
        "soup = BeautifulSoup(r.text, 'lxml')"
      ],
      "metadata": {
        "id": "Stnd-2Zrml86"
      },
      "execution_count": 32,
      "outputs": []
    },
    {
      "cell_type": "markdown",
      "source": [
        "Проверяем содержимое этого объекта. Получаем код страницы."
      ],
      "metadata": {
        "id": "GGjaFQntW84D"
      }
    },
    {
      "cell_type": "code",
      "source": [
        "# soup"
      ],
      "metadata": {
        "id": "HxGZLYWXmt_S"
      },
      "execution_count": null,
      "outputs": []
    },
    {
      "cell_type": "markdown",
      "source": [
        "#### Работа с объектом BeautifulSoup"
      ],
      "metadata": {
        "id": "bgnXZHHldIPi"
      }
    },
    {
      "cell_type": "markdown",
      "source": [
        "Будем парсить книги, элемент книги -\n",
        "\n",
        "```\n",
        "<div class=\"main-list-item block-table\" id=\"2290\">\n",
        "\n",
        "    <div class=\"main-list-item__left block-table__cell\"><img itemprop=\"image\" src=\"/media/books/Dz/55x83/Dzh_55x83.jpg\" width=\"55\" alt=\"Гарри Поттер и философский камень\">\n",
        "        \n",
        "    </div>\n",
        "    <div class=\"main-list-item__right block-table__cell\">\n",
        "\n",
        "        <div class=\"main-list-item-right-1 block-table\">\n",
        "            <div class=\"main-list-item-right-1__left block-table__cell\">\n",
        "                <div><a href=\"https://knigopoisk.org/books/dzh_k_rouling_garri_potter_i_filosofskiy_kamen\" title=\"Гарри Поттер и философский камень\" class=\"list-book__link\">Гарри Поттер и философский камень</a></div>\n",
        "                <div class=\"list-book__link-author\"><a class=\"list-author\" href=\"/authors/dzh_k_rouling\" title=\"Дж. К. Роулинг\">Дж. К. Роулинг</a></div>\n",
        "            </div>\n",
        "                    </div>\n",
        "        <div class=\"main-list-item-right-3 block-table\">\n",
        "            <div class=\"main-list-item-right-3__left block-table__cell\">\n",
        "                <div class=\"block-table\">\n",
        "                    <div class=\"block-table__cell rating-list-block-stars-container\">\n",
        "\n",
        "                                                            <img src=\"/img/rating-guest-9.png\" alt=\"Рейтинг: 8.99\">\n",
        "                            \n",
        "                    </div>\n",
        "                    <div class=\"block-table__cell pdl10\">\n",
        "                        <span class=\"rating\">8.99</span><span class=\"count-rating\">(1903)</span>\n",
        "                    </div>\n",
        "                </div>\n",
        "            </div>\n",
        "            <div class=\"main-list-item-right-3__right block-table__cell\">\n",
        "                                \n",
        "                                \n",
        "                                    <a href=\"https://knigopoisk.org/books/dzh_k_rouling_garri_potter_i_filosofskiy_kamen/citaty\" class=\"count-quotes\" title=\"Цитаты из книги «Гарри Поттер и философский камень»\"><span class=\"display-swither\">Цитаты (</span><span>27</span><span class=\"display-swither\">)</span></a>\n",
        "                                            </div>\n",
        "        </div>\n",
        "                    <div class=\"main-list-item-right-description\">Издательская группа \"Азбука-Аттикус\" с гордостью сообщает о начале публикации уникальных мировых бестселлеров - семи книг Дж.К. Роулинг о Гарри Поттере. Самая знаменитая сага новейшего времени разошлась рекордным тиражом - более 400 миллионов экземпляров на 68 языках (включая эсперанто, древнегреческий и латынь). Книги Роулинг сумели оторвать детей и взрослых от экранов компьютеров и стали мощнейшим импульсом для интереса к чтению в современную эпоху. Приобретение исключительных прав на издание ...</div>            </div>\n",
        "\n",
        "  </div>\n",
        "```\n",
        "\n"
      ],
      "metadata": {
        "id": "vIe9JMMJdsW4"
      }
    },
    {
      "cell_type": "markdown",
      "source": [
        "Найдем 1-ую книгу на странице (её тег `div`, а класс `main-list-item block-table`) с помощью метода **.find()**, возращающего 1-ое вхождение."
      ],
      "metadata": {
        "id": "F0YfhyivePkY"
      }
    },
    {
      "cell_type": "code",
      "source": [
        "soup.find('div', class_='main-list-item block-table')"
      ],
      "metadata": {
        "colab": {
          "base_uri": "https://localhost:8080/"
        },
        "id": "xGy79oq_dPj4",
        "outputId": "7b8f150e-7c6d-4898-917e-302fdf2f2baa"
      },
      "execution_count": 34,
      "outputs": [
        {
          "output_type": "execute_result",
          "data": {
            "text/plain": [
              "<div class=\"main-list-item block-table\" id=\"2290\">\n",
              "<div class=\"main-list-item__left block-table__cell\"><img alt=\"Гарри Поттер и философский камень\" itemprop=\"image\" src=\"/media/books/Dz/55x83/Dzh_55x83.jpg\" width=\"55\"/>\n",
              "</div>\n",
              "<div class=\"main-list-item__right block-table__cell\">\n",
              "<div class=\"main-list-item-right-1 block-table\">\n",
              "<div class=\"main-list-item-right-1__left block-table__cell\">\n",
              "<div><a class=\"list-book__link\" href=\"https://knigopoisk.org/books/dzh_k_rouling_garri_potter_i_filosofskiy_kamen\" title=\"Гарри Поттер и философский камень\">Гарри Поттер и философский камень</a></div>\n",
              "<div class=\"list-book__link-author\"><a class=\"list-author\" href=\"/authors/dzh_k_rouling\" title=\"Дж. К. Роулинг\">Дж. К. Роулинг</a></div>\n",
              "</div>\n",
              "</div>\n",
              "<div class=\"main-list-item-right-3 block-table\">\n",
              "<div class=\"main-list-item-right-3__left block-table__cell\">\n",
              "<div class=\"block-table\">\n",
              "<div class=\"block-table__cell rating-list-block-stars-container\">\n",
              "<img alt=\"Рейтинг: 8.99\" src=\"/img/rating-guest-9.png\"/>\n",
              "</div>\n",
              "<div class=\"block-table__cell pdl10\">\n",
              "<span class=\"rating\">8.99</span><span class=\"count-rating\">(1903)</span>\n",
              "</div>\n",
              "</div>\n",
              "</div>\n",
              "<div class=\"main-list-item-right-3__right block-table__cell\">\n",
              "<a class=\"count-quotes\" href=\"https://knigopoisk.org/books/dzh_k_rouling_garri_potter_i_filosofskiy_kamen/citaty\" title=\"Цитаты из книги «Гарри Поттер и философский камень»\"><span class=\"display-swither\">Цитаты (</span><span>27</span><span class=\"display-swither\">)</span></a>\n",
              "</div>\n",
              "</div>\n",
              "<div class=\"main-list-item-right-description\">Издательская группа \"Азбука-Аттикус\" с гордостью сообщает о начале публикации уникальных мировых бестселлеров - семи книг Дж.К. Роулинг о Гарри Поттере. Самая знаменитая сага новейшего времени разошлась рекордным тиражом - более 400 миллионов экземпляров на 68 языках (включая эсперанто, древнегреческий и латынь). Книги Роулинг сумели оторвать детей и взрослых от экранов компьютеров и стали мощнейшим импульсом для интереса к чтению в современную эпоху. Приобретение исключительных прав на издание ...</div> </div>\n",
              "</div>"
            ]
          },
          "metadata": {},
          "execution_count": 34
        }
      ]
    },
    {
      "cell_type": "markdown",
      "source": [
        "Углубимся дальше - достанем название книги и ссылку.\n",
        "\n",
        "* (тег - div, класс - main-list-item block-table),\n",
        "* (тег - div, класс - main-list-item__right block-table__cell),\n",
        "* (тег - div, класс - main-list-item-right-1 block-table),\n",
        "* (тег - div, класс - main-list-item-right-1__left block-table__cell),\n",
        "* (тег - a, класс - list-book__link)\n"
      ],
      "metadata": {
        "id": "4DebcGB5hCJI"
      }
    },
    {
      "cell_type": "code",
      "source": [
        "title_and_link = soup.find('div', class_='main-list-item block-table') \\\n",
        "  .find('div', class_='main-list-item__right block-table__cell') \\\n",
        "  .find('div', class_='main-list-item-right-1 block-table') \\\n",
        "  .find('div', class_='main-list-item-right-1__left block-table__cell') \\\n",
        "  .find('a', class_='list-book__link')\n",
        "\n",
        "title_and_link"
      ],
      "metadata": {
        "colab": {
          "base_uri": "https://localhost:8080/"
        },
        "id": "-gKUe-sahBX7",
        "outputId": "5f71e771-7197-4f55-f896-18e288d4e83a"
      },
      "execution_count": 74,
      "outputs": [
        {
          "output_type": "execute_result",
          "data": {
            "text/plain": [
              "<a class=\"list-book__link\" href=\"https://knigopoisk.org/books/dzh_k_rouling_garri_potter_i_filosofskiy_kamen\" title=\"Гарри Поттер и философский камень\">Гарри Поттер и философский камень</a>"
            ]
          },
          "metadata": {},
          "execution_count": 74
        }
      ]
    },
    {
      "cell_type": "markdown",
      "source": [
        "Но не нужно обязательно проходить по всему пути тег а с таким классом один."
      ],
      "metadata": {
        "id": "BX-kRTDvr_LP"
      }
    },
    {
      "cell_type": "code",
      "source": [
        "title_and_link = soup.find('a', class_='list-book__link')\n",
        "\n",
        "title_and_link"
      ],
      "metadata": {
        "colab": {
          "base_uri": "https://localhost:8080/"
        },
        "id": "ipKy23URr8K7",
        "outputId": "f0d76dba-ea85-4076-b653-5b610d712620"
      },
      "execution_count": 75,
      "outputs": [
        {
          "output_type": "execute_result",
          "data": {
            "text/plain": [
              "<a class=\"list-book__link\" href=\"https://knigopoisk.org/books/dzh_k_rouling_garri_potter_i_filosofskiy_kamen\" title=\"Гарри Поттер и философский камень\">Гарри Поттер и философский камень</a>"
            ]
          },
          "metadata": {},
          "execution_count": 75
        }
      ]
    },
    {
      "cell_type": "markdown",
      "source": [
        "Видим, что в атрибутах хранится ссылка и название книги, также название книги находится внутри тега. Добудем ссылку с помощью метода **.get()**, передав ему название атрибута тега. А название получим через атрибут **.text**."
      ],
      "metadata": {
        "id": "MdCORV4tlHec"
      }
    },
    {
      "cell_type": "code",
      "source": [
        "link = title_and_link.get('href')\n",
        "title = title_and_link.text\n",
        "\n",
        "print(link)\n",
        "print(title)"
      ],
      "metadata": {
        "colab": {
          "base_uri": "https://localhost:8080/"
        },
        "id": "BvveDFxsdPfr",
        "outputId": "1c6c8974-f23b-481c-c25b-b13342988aa4"
      },
      "execution_count": 46,
      "outputs": [
        {
          "output_type": "stream",
          "name": "stdout",
          "text": [
            "https://knigopoisk.org/books/dzh_k_rouling_garri_potter_i_filosofskiy_kamen\n",
            "Гарри Поттер и философский камень\n"
          ]
        }
      ]
    },
    {
      "cell_type": "markdown",
      "source": [
        "Углубимся дальше - достанем имя автора.\n",
        "\n",
        "* (тег - div, класс - main-list-item block-table),\n",
        "* (тег - div, класс - main-list-item__right block-table__cell),\n",
        "* (тег - div, класс - main-list-item-right-1 block-table),\n",
        "* (тег - div, класс - main-list-item-right-1__left block-table__cell),\n",
        "* (тег - div, класс - list-book__link-author)\n",
        "* (тег - a, класс - list-author)\n",
        "\n",
        "Но не нужно обязательно проходить по всему пути тег а с таким классом один."
      ],
      "metadata": {
        "id": "THXvxToZnyST"
      }
    },
    {
      "cell_type": "code",
      "source": [
        "author = soup.find('a', class_='list-author').get('title')\n",
        "\n",
        "author"
      ],
      "metadata": {
        "colab": {
          "base_uri": "https://localhost:8080/",
          "height": 36
        },
        "id": "VF457Oflnxt0",
        "outputId": "a8605f67-0504-48da-e613-f1d08398a659"
      },
      "execution_count": 73,
      "outputs": [
        {
          "output_type": "execute_result",
          "data": {
            "text/plain": [
              "'Дж. К. Роулинг'"
            ],
            "application/vnd.google.colaboratory.intrinsic+json": {
              "type": "string"
            }
          },
          "metadata": {},
          "execution_count": 73
        }
      ]
    },
    {
      "cell_type": "markdown",
      "source": [
        "Углубимся дальше - достанем рейтинг.\n",
        "\n",
        "* (тег - div, класс - main-list-item block-table),\n",
        "* (тег - div, класс - main-list-item__right block-table__cell),\n",
        "* (тег - div, класс - block-table__cell rating-list-block-stars-container),\n",
        "* (тег - img)\n",
        "\n",
        "Ещё понадобились некоторые предобразования, чтобы получить то, что нужно."
      ],
      "metadata": {
        "id": "pzmFkHO9qeRl"
      }
    },
    {
      "cell_type": "code",
      "source": [
        "rating = soup.find('div', class_='main-list-item block-table') \\\n",
        "  .find('div', class_='main-list-item__right block-table__cell') \\\n",
        "  .find('div', class_='block-table__cell rating-list-block-stars-container') \\\n",
        "  .find('img').get('alt').split()[1]\n",
        "\n",
        "rating = float(rating)\n",
        "rating"
      ],
      "metadata": {
        "colab": {
          "base_uri": "https://localhost:8080/"
        },
        "id": "amsGhcuTdNb1",
        "outputId": "dc2d5ba6-d283-426f-b967-c8f7e7ff9ef4"
      },
      "execution_count": 76,
      "outputs": [
        {
          "output_type": "execute_result",
          "data": {
            "text/plain": [
              "8.99"
            ]
          },
          "metadata": {},
          "execution_count": 76
        }
      ]
    },
    {
      "cell_type": "markdown",
      "source": [
        "**!!!** Если вдруг сочетание *тег+класс* встречается не один раз, а нам нужен определенный из этих блоков, то нужно использовать метод **.findAll()**, возвращающий список. В этом списке по порядку можно выбрать то, что нужно."
      ],
      "metadata": {
        "id": "78Dt9naLsvHT"
      }
    },
    {
      "cell_type": "markdown",
      "source": [
        "### Пример для одной страницы"
      ],
      "metadata": {
        "id": "pbp-zE8ic-x8"
      }
    },
    {
      "cell_type": "markdown",
      "source": [
        "Соберем все книги в один список."
      ],
      "metadata": {
        "id": "WQrILeJ_uVMq"
      }
    },
    {
      "cell_type": "code",
      "source": [
        "books = soup.findAll('div', class_='main-list-item block-table')\n",
        "len(books)"
      ],
      "metadata": {
        "colab": {
          "base_uri": "https://localhost:8080/"
        },
        "id": "Evp_zObFXKSU",
        "outputId": "0fef03f2-ff29-4b62-8c7a-98ad74bcf8e1"
      },
      "execution_count": 89,
      "outputs": [
        {
          "output_type": "execute_result",
          "data": {
            "text/plain": [
              "155"
            ]
          },
          "metadata": {},
          "execution_count": 89
        }
      ]
    },
    {
      "cell_type": "markdown",
      "source": [
        "Соберем всю информацию о книгах с помощью цикла в предеменную data."
      ],
      "metadata": {
        "id": "H78ImcGpv6jK"
      }
    },
    {
      "cell_type": "code",
      "source": [
        "data = []"
      ],
      "metadata": {
        "id": "jUdd170Uvu0l"
      },
      "execution_count": 90,
      "outputs": []
    },
    {
      "cell_type": "markdown",
      "source": [
        "Так как данные иногда могут отсутствовать, то нужно использовать **try-except**, для примера, в этот блок обернуто название со ссылкой -  по логике такая книга не будет обрабатываться."
      ],
      "metadata": {
        "id": "eXfkFMTwyCLL"
      }
    },
    {
      "cell_type": "code",
      "source": [
        "for book in books:\n",
        "  try:\n",
        "    title_and_link = book.find('a', class_='list-book__link')\n",
        "    link = title_and_link.get('href')\n",
        "    title = title_and_link.text\n",
        "  except:\n",
        "    continue\n",
        "\n",
        "  author = book.find('a', class_='list-author').get('title')\n",
        "\n",
        "  rating = book.find('div', class_='main-list-item__right block-table__cell') \\\n",
        "  .find('div', class_='block-table__cell rating-list-block-stars-container') \\\n",
        "  .find('img').get('alt').split()[1]\n",
        "  rating = float(rating)\n",
        "\n",
        "  data.append([title, author, link, rating])"
      ],
      "metadata": {
        "id": "h5POoXtgXKPT"
      },
      "execution_count": 91,
      "outputs": []
    },
    {
      "cell_type": "code",
      "source": [
        "len(data)"
      ],
      "metadata": {
        "colab": {
          "base_uri": "https://localhost:8080/"
        },
        "id": "s8oNFIEJXKJl",
        "outputId": "6e20e55b-f801-41b4-a514-5204edf0dc25"
      },
      "execution_count": 92,
      "outputs": [
        {
          "output_type": "execute_result",
          "data": {
            "text/plain": [
              "152"
            ]
          },
          "metadata": {},
          "execution_count": 92
        }
      ]
    },
    {
      "cell_type": "markdown",
      "source": [
        "Всю эту информацию можно собрать в датафрейм и при необходимости перевести в csv-файл."
      ],
      "metadata": {
        "id": "CRLjOUwtz5vP"
      }
    },
    {
      "cell_type": "code",
      "source": [
        "table_head = ['title', 'author', 'link', 'rating']"
      ],
      "metadata": {
        "id": "aCvFtDRbzXUl"
      },
      "execution_count": 93,
      "outputs": []
    },
    {
      "cell_type": "code",
      "source": [
        "df = pd.DataFrame(data, columns=table_head)"
      ],
      "metadata": {
        "id": "3d6Eb1mPy-vv"
      },
      "execution_count": 94,
      "outputs": []
    },
    {
      "cell_type": "code",
      "source": [
        "df"
      ],
      "metadata": {
        "colab": {
          "base_uri": "https://localhost:8080/",
          "height": 423
        },
        "id": "CnZalyzHy-sv",
        "outputId": "7e4b6983-fb05-48a1-bcf9-b837cb77530f"
      },
      "execution_count": 95,
      "outputs": [
        {
          "output_type": "execute_result",
          "data": {
            "text/plain": [
              "                                 title               author  \\\n",
              "0    Гарри Поттер и философский камень       Дж. К. Роулинг   \n",
              "1        Гарри Поттер и узник Азкабана       Дж. К. Роулинг   \n",
              "2            Гарри Поттер и Кубок Огня       Дж. К. Роулинг   \n",
              "3                     Унесенные ветром     Маргарет Митчелл   \n",
              "4                    Граф Монте-Кристо       Александр Дюма   \n",
              "..                                 ...                  ...   \n",
              "147                     Осиная фабрика            Иэн Бэнкс   \n",
              "148              Американский психопат     Брет Истон Эллис   \n",
              "149                           В дороге          Джек Керуак   \n",
              "150                            Алхимик         Пауло Коэльо   \n",
              "151               Над пропастью во ржи  Джером Д. Сэлинджер   \n",
              "\n",
              "                                                  link  rating  \n",
              "0    https://knigopoisk.org/books/dzh_k_rouling_gar...    8.99  \n",
              "1    https://knigopoisk.org/books/dzh_k_rouling_gar...    8.98  \n",
              "2    https://knigopoisk.org/books/dzh_k_rouling_gar...    8.98  \n",
              "3    https://knigopoisk.org/books/margaret_mitchell...    8.97  \n",
              "4    https://knigopoisk.org/books/aleksandr_dyuma_g...    8.97  \n",
              "..                                                 ...     ...  \n",
              "147  https://knigopoisk.org/books/ien_benks_osinaya...    6.06  \n",
              "148  https://knigopoisk.org/books/bret_iston_ellis_...    6.05  \n",
              "149  https://knigopoisk.org/books/dzhek_keruak_v_do...    6.03  \n",
              "150  https://knigopoisk.org/books/paulo_koelo_alkhimik    6.01  \n",
              "151  https://knigopoisk.org/books/dzherom_d_selindz...    6.00  \n",
              "\n",
              "[152 rows x 4 columns]"
            ],
            "text/html": [
              "\n",
              "  <div id=\"df-625772d1-a3e1-4ca5-ba27-a72479eef072\" class=\"colab-df-container\">\n",
              "    <div>\n",
              "<style scoped>\n",
              "    .dataframe tbody tr th:only-of-type {\n",
              "        vertical-align: middle;\n",
              "    }\n",
              "\n",
              "    .dataframe tbody tr th {\n",
              "        vertical-align: top;\n",
              "    }\n",
              "\n",
              "    .dataframe thead th {\n",
              "        text-align: right;\n",
              "    }\n",
              "</style>\n",
              "<table border=\"1\" class=\"dataframe\">\n",
              "  <thead>\n",
              "    <tr style=\"text-align: right;\">\n",
              "      <th></th>\n",
              "      <th>title</th>\n",
              "      <th>author</th>\n",
              "      <th>link</th>\n",
              "      <th>rating</th>\n",
              "    </tr>\n",
              "  </thead>\n",
              "  <tbody>\n",
              "    <tr>\n",
              "      <th>0</th>\n",
              "      <td>Гарри Поттер и философский камень</td>\n",
              "      <td>Дж. К. Роулинг</td>\n",
              "      <td>https://knigopoisk.org/books/dzh_k_rouling_gar...</td>\n",
              "      <td>8.99</td>\n",
              "    </tr>\n",
              "    <tr>\n",
              "      <th>1</th>\n",
              "      <td>Гарри Поттер и узник Азкабана</td>\n",
              "      <td>Дж. К. Роулинг</td>\n",
              "      <td>https://knigopoisk.org/books/dzh_k_rouling_gar...</td>\n",
              "      <td>8.98</td>\n",
              "    </tr>\n",
              "    <tr>\n",
              "      <th>2</th>\n",
              "      <td>Гарри Поттер и Кубок Огня</td>\n",
              "      <td>Дж. К. Роулинг</td>\n",
              "      <td>https://knigopoisk.org/books/dzh_k_rouling_gar...</td>\n",
              "      <td>8.98</td>\n",
              "    </tr>\n",
              "    <tr>\n",
              "      <th>3</th>\n",
              "      <td>Унесенные ветром</td>\n",
              "      <td>Маргарет Митчелл</td>\n",
              "      <td>https://knigopoisk.org/books/margaret_mitchell...</td>\n",
              "      <td>8.97</td>\n",
              "    </tr>\n",
              "    <tr>\n",
              "      <th>4</th>\n",
              "      <td>Граф Монте-Кристо</td>\n",
              "      <td>Александр Дюма</td>\n",
              "      <td>https://knigopoisk.org/books/aleksandr_dyuma_g...</td>\n",
              "      <td>8.97</td>\n",
              "    </tr>\n",
              "    <tr>\n",
              "      <th>...</th>\n",
              "      <td>...</td>\n",
              "      <td>...</td>\n",
              "      <td>...</td>\n",
              "      <td>...</td>\n",
              "    </tr>\n",
              "    <tr>\n",
              "      <th>147</th>\n",
              "      <td>Осиная фабрика</td>\n",
              "      <td>Иэн Бэнкс</td>\n",
              "      <td>https://knigopoisk.org/books/ien_benks_osinaya...</td>\n",
              "      <td>6.06</td>\n",
              "    </tr>\n",
              "    <tr>\n",
              "      <th>148</th>\n",
              "      <td>Американский психопат</td>\n",
              "      <td>Брет Истон Эллис</td>\n",
              "      <td>https://knigopoisk.org/books/bret_iston_ellis_...</td>\n",
              "      <td>6.05</td>\n",
              "    </tr>\n",
              "    <tr>\n",
              "      <th>149</th>\n",
              "      <td>В дороге</td>\n",
              "      <td>Джек Керуак</td>\n",
              "      <td>https://knigopoisk.org/books/dzhek_keruak_v_do...</td>\n",
              "      <td>6.03</td>\n",
              "    </tr>\n",
              "    <tr>\n",
              "      <th>150</th>\n",
              "      <td>Алхимик</td>\n",
              "      <td>Пауло Коэльо</td>\n",
              "      <td>https://knigopoisk.org/books/paulo_koelo_alkhimik</td>\n",
              "      <td>6.01</td>\n",
              "    </tr>\n",
              "    <tr>\n",
              "      <th>151</th>\n",
              "      <td>Над пропастью во ржи</td>\n",
              "      <td>Джером Д. Сэлинджер</td>\n",
              "      <td>https://knigopoisk.org/books/dzherom_d_selindz...</td>\n",
              "      <td>6.00</td>\n",
              "    </tr>\n",
              "  </tbody>\n",
              "</table>\n",
              "<p>152 rows × 4 columns</p>\n",
              "</div>\n",
              "    <div class=\"colab-df-buttons\">\n",
              "\n",
              "  <div class=\"colab-df-container\">\n",
              "    <button class=\"colab-df-convert\" onclick=\"convertToInteractive('df-625772d1-a3e1-4ca5-ba27-a72479eef072')\"\n",
              "            title=\"Convert this dataframe to an interactive table.\"\n",
              "            style=\"display:none;\">\n",
              "\n",
              "  <svg xmlns=\"http://www.w3.org/2000/svg\" height=\"24px\" viewBox=\"0 -960 960 960\">\n",
              "    <path d=\"M120-120v-720h720v720H120Zm60-500h600v-160H180v160Zm220 220h160v-160H400v160Zm0 220h160v-160H400v160ZM180-400h160v-160H180v160Zm440 0h160v-160H620v160ZM180-180h160v-160H180v160Zm440 0h160v-160H620v160Z\"/>\n",
              "  </svg>\n",
              "    </button>\n",
              "\n",
              "  <style>\n",
              "    .colab-df-container {\n",
              "      display:flex;\n",
              "      gap: 12px;\n",
              "    }\n",
              "\n",
              "    .colab-df-convert {\n",
              "      background-color: #E8F0FE;\n",
              "      border: none;\n",
              "      border-radius: 50%;\n",
              "      cursor: pointer;\n",
              "      display: none;\n",
              "      fill: #1967D2;\n",
              "      height: 32px;\n",
              "      padding: 0 0 0 0;\n",
              "      width: 32px;\n",
              "    }\n",
              "\n",
              "    .colab-df-convert:hover {\n",
              "      background-color: #E2EBFA;\n",
              "      box-shadow: 0px 1px 2px rgba(60, 64, 67, 0.3), 0px 1px 3px 1px rgba(60, 64, 67, 0.15);\n",
              "      fill: #174EA6;\n",
              "    }\n",
              "\n",
              "    .colab-df-buttons div {\n",
              "      margin-bottom: 4px;\n",
              "    }\n",
              "\n",
              "    [theme=dark] .colab-df-convert {\n",
              "      background-color: #3B4455;\n",
              "      fill: #D2E3FC;\n",
              "    }\n",
              "\n",
              "    [theme=dark] .colab-df-convert:hover {\n",
              "      background-color: #434B5C;\n",
              "      box-shadow: 0px 1px 3px 1px rgba(0, 0, 0, 0.15);\n",
              "      filter: drop-shadow(0px 1px 2px rgba(0, 0, 0, 0.3));\n",
              "      fill: #FFFFFF;\n",
              "    }\n",
              "  </style>\n",
              "\n",
              "    <script>\n",
              "      const buttonEl =\n",
              "        document.querySelector('#df-625772d1-a3e1-4ca5-ba27-a72479eef072 button.colab-df-convert');\n",
              "      buttonEl.style.display =\n",
              "        google.colab.kernel.accessAllowed ? 'block' : 'none';\n",
              "\n",
              "      async function convertToInteractive(key) {\n",
              "        const element = document.querySelector('#df-625772d1-a3e1-4ca5-ba27-a72479eef072');\n",
              "        const dataTable =\n",
              "          await google.colab.kernel.invokeFunction('convertToInteractive',\n",
              "                                                    [key], {});\n",
              "        if (!dataTable) return;\n",
              "\n",
              "        const docLinkHtml = 'Like what you see? Visit the ' +\n",
              "          '<a target=\"_blank\" href=https://colab.research.google.com/notebooks/data_table.ipynb>data table notebook</a>'\n",
              "          + ' to learn more about interactive tables.';\n",
              "        element.innerHTML = '';\n",
              "        dataTable['output_type'] = 'display_data';\n",
              "        await google.colab.output.renderOutput(dataTable, element);\n",
              "        const docLink = document.createElement('div');\n",
              "        docLink.innerHTML = docLinkHtml;\n",
              "        element.appendChild(docLink);\n",
              "      }\n",
              "    </script>\n",
              "  </div>\n",
              "\n",
              "\n",
              "<div id=\"df-a5697edf-816f-4f80-86c8-defddae17f1f\">\n",
              "  <button class=\"colab-df-quickchart\" onclick=\"quickchart('df-a5697edf-816f-4f80-86c8-defddae17f1f')\"\n",
              "            title=\"Suggest charts\"\n",
              "            style=\"display:none;\">\n",
              "\n",
              "<svg xmlns=\"http://www.w3.org/2000/svg\" height=\"24px\"viewBox=\"0 0 24 24\"\n",
              "     width=\"24px\">\n",
              "    <g>\n",
              "        <path d=\"M19 3H5c-1.1 0-2 .9-2 2v14c0 1.1.9 2 2 2h14c1.1 0 2-.9 2-2V5c0-1.1-.9-2-2-2zM9 17H7v-7h2v7zm4 0h-2V7h2v10zm4 0h-2v-4h2v4z\"/>\n",
              "    </g>\n",
              "</svg>\n",
              "  </button>\n",
              "\n",
              "<style>\n",
              "  .colab-df-quickchart {\n",
              "      --bg-color: #E8F0FE;\n",
              "      --fill-color: #1967D2;\n",
              "      --hover-bg-color: #E2EBFA;\n",
              "      --hover-fill-color: #174EA6;\n",
              "      --disabled-fill-color: #AAA;\n",
              "      --disabled-bg-color: #DDD;\n",
              "  }\n",
              "\n",
              "  [theme=dark] .colab-df-quickchart {\n",
              "      --bg-color: #3B4455;\n",
              "      --fill-color: #D2E3FC;\n",
              "      --hover-bg-color: #434B5C;\n",
              "      --hover-fill-color: #FFFFFF;\n",
              "      --disabled-bg-color: #3B4455;\n",
              "      --disabled-fill-color: #666;\n",
              "  }\n",
              "\n",
              "  .colab-df-quickchart {\n",
              "    background-color: var(--bg-color);\n",
              "    border: none;\n",
              "    border-radius: 50%;\n",
              "    cursor: pointer;\n",
              "    display: none;\n",
              "    fill: var(--fill-color);\n",
              "    height: 32px;\n",
              "    padding: 0;\n",
              "    width: 32px;\n",
              "  }\n",
              "\n",
              "  .colab-df-quickchart:hover {\n",
              "    background-color: var(--hover-bg-color);\n",
              "    box-shadow: 0 1px 2px rgba(60, 64, 67, 0.3), 0 1px 3px 1px rgba(60, 64, 67, 0.15);\n",
              "    fill: var(--button-hover-fill-color);\n",
              "  }\n",
              "\n",
              "  .colab-df-quickchart-complete:disabled,\n",
              "  .colab-df-quickchart-complete:disabled:hover {\n",
              "    background-color: var(--disabled-bg-color);\n",
              "    fill: var(--disabled-fill-color);\n",
              "    box-shadow: none;\n",
              "  }\n",
              "\n",
              "  .colab-df-spinner {\n",
              "    border: 2px solid var(--fill-color);\n",
              "    border-color: transparent;\n",
              "    border-bottom-color: var(--fill-color);\n",
              "    animation:\n",
              "      spin 1s steps(1) infinite;\n",
              "  }\n",
              "\n",
              "  @keyframes spin {\n",
              "    0% {\n",
              "      border-color: transparent;\n",
              "      border-bottom-color: var(--fill-color);\n",
              "      border-left-color: var(--fill-color);\n",
              "    }\n",
              "    20% {\n",
              "      border-color: transparent;\n",
              "      border-left-color: var(--fill-color);\n",
              "      border-top-color: var(--fill-color);\n",
              "    }\n",
              "    30% {\n",
              "      border-color: transparent;\n",
              "      border-left-color: var(--fill-color);\n",
              "      border-top-color: var(--fill-color);\n",
              "      border-right-color: var(--fill-color);\n",
              "    }\n",
              "    40% {\n",
              "      border-color: transparent;\n",
              "      border-right-color: var(--fill-color);\n",
              "      border-top-color: var(--fill-color);\n",
              "    }\n",
              "    60% {\n",
              "      border-color: transparent;\n",
              "      border-right-color: var(--fill-color);\n",
              "    }\n",
              "    80% {\n",
              "      border-color: transparent;\n",
              "      border-right-color: var(--fill-color);\n",
              "      border-bottom-color: var(--fill-color);\n",
              "    }\n",
              "    90% {\n",
              "      border-color: transparent;\n",
              "      border-bottom-color: var(--fill-color);\n",
              "    }\n",
              "  }\n",
              "</style>\n",
              "\n",
              "  <script>\n",
              "    async function quickchart(key) {\n",
              "      const quickchartButtonEl =\n",
              "        document.querySelector('#' + key + ' button');\n",
              "      quickchartButtonEl.disabled = true;  // To prevent multiple clicks.\n",
              "      quickchartButtonEl.classList.add('colab-df-spinner');\n",
              "      try {\n",
              "        const charts = await google.colab.kernel.invokeFunction(\n",
              "            'suggestCharts', [key], {});\n",
              "      } catch (error) {\n",
              "        console.error('Error during call to suggestCharts:', error);\n",
              "      }\n",
              "      quickchartButtonEl.classList.remove('colab-df-spinner');\n",
              "      quickchartButtonEl.classList.add('colab-df-quickchart-complete');\n",
              "    }\n",
              "    (() => {\n",
              "      let quickchartButtonEl =\n",
              "        document.querySelector('#df-a5697edf-816f-4f80-86c8-defddae17f1f button');\n",
              "      quickchartButtonEl.style.display =\n",
              "        google.colab.kernel.accessAllowed ? 'block' : 'none';\n",
              "    })();\n",
              "  </script>\n",
              "</div>\n",
              "    </div>\n",
              "  </div>\n"
            ]
          },
          "metadata": {},
          "execution_count": 95
        }
      ]
    },
    {
      "cell_type": "markdown",
      "source": [
        "### Пример для нескольких страниц с пролистыванием"
      ],
      "metadata": {
        "id": "PPjK5321uKbL"
      }
    },
    {
      "cell_type": "markdown",
      "source": [
        "На сайте книгопоиска есть страницы с цитатами, их можно пролистывать, поэтому их будем использовать для парсинга."
      ],
      "metadata": {
        "id": "9ZRzBSHz0bMh"
      }
    },
    {
      "cell_type": "markdown",
      "source": [
        "#### Подготовка"
      ],
      "metadata": {
        "id": "RUOzZC-i4mMX"
      }
    },
    {
      "cell_type": "code",
      "source": [
        "url = \"https://knigopoisk.org/quote/index?page=1\"\n",
        "headers = {\n",
        "    \"User-Agent\": \"Mozilla/5.0 (Windows NT 6.1; Win64; x64) AppleWebKit/537.36 (KHTML, like Gecko) Chrome/78.0.3904.87 Safari/537.36\",\n",
        "    \"Content-Type\":\"text\"\n",
        "}\n",
        "\n",
        "timeout=30\n",
        "r = requests.get(url, timeout=timeout, headers=headers)\n",
        "soup = BeautifulSoup(r.text, 'lxml')\n",
        "# soup"
      ],
      "metadata": {
        "id": "IzGbhRDouRrd"
      },
      "execution_count": 117,
      "outputs": []
    },
    {
      "cell_type": "markdown",
      "source": [
        "#### Работа с объектом BeautifulSoup"
      ],
      "metadata": {
        "id": "S9RjsGlP4qMe"
      }
    },
    {
      "cell_type": "markdown",
      "source": [
        "Добудем 1 цитату.\n",
        "\n",
        "```\n",
        "<div class=\"quotesbook\">\n",
        "    <p class=\"quote-head\">Цитата из книги «Над пропастью во ржи»</p>\n",
        "    <div class=\"quote\" id=\"remove_quote\">\n",
        "        <p>«\"Тело женщины - скрипка и что надо быть прекрасным музыкантом, чтобы заставить его звучать.\"</p><p>»</p>\n",
        "                <a href=\"https://knigopoisk.org/books/dzherom_d_selindzher_nad_propastyu_vo_rzhi/citaty\" class=\"all-quotes-book\">Все цитаты из этой книги</a>\n",
        "    </div>\n",
        "\n",
        "                <div class=\"likebox dislike\" id=\"quote-11985\">\n",
        "\n",
        "        <a href=\"/site/login\" rel=\"nofollow\" title=\"Добавить в любимые\">Мне нравится</a>\n",
        "    \n",
        "    <p class=\"count-like\">  <span id=\"req_res11985\">0</span></p>\n",
        "</div>    \n",
        "</div>\n",
        "```\n",
        "\n"
      ],
      "metadata": {
        "id": "eMKTjCr_4unW"
      }
    },
    {
      "cell_type": "code",
      "source": [
        "q = soup.find('div', class_='quotesbook')\n",
        "q"
      ],
      "metadata": {
        "colab": {
          "base_uri": "https://localhost:8080/"
        },
        "id": "2PhUhNc71p2-",
        "outputId": "dc77c699-d2b5-4b32-c770-f9806fe493ff"
      },
      "execution_count": 118,
      "outputs": [
        {
          "output_type": "execute_result",
          "data": {
            "text/plain": [
              "<div class=\"quotesbook\">\n",
              "<p class=\"quote-head\">Цитата из книги «Над пропастью во ржи»</p>\n",
              "<div class=\"quote\" id=\"remove_quote\">\n",
              "<p>«\"Тело женщины - скрипка и что надо быть прекрасным музыкантом, чтобы заставить его звучать.\"</p><p>»</p>\n",
              "<a class=\"all-quotes-book\" href=\"https://knigopoisk.org/books/dzherom_d_selindzher_nad_propastyu_vo_rzhi/citaty\">Все цитаты из этой книги</a>\n",
              "</div>\n",
              "<div class=\"likebox dislike\" id=\"quote-11985\">\n",
              "<a href=\"/site/login\" rel=\"nofollow\" title=\"Добавить в любимые\">Мне нравится</a>\n",
              "<p class=\"count-like\"> <span id=\"req_res11985\">0</span></p>\n",
              "</div>\n",
              "</div>"
            ]
          },
          "metadata": {},
          "execution_count": 118
        }
      ]
    },
    {
      "cell_type": "markdown",
      "source": [
        "Добудем название книги и саму цитату."
      ],
      "metadata": {
        "id": "hNN43ds96y-E"
      }
    },
    {
      "cell_type": "code",
      "source": [
        "q.findAll('p')"
      ],
      "metadata": {
        "colab": {
          "base_uri": "https://localhost:8080/"
        },
        "id": "aefRrT5s5_M2",
        "outputId": "348ea4ab-4a47-4c92-a3f5-a7a49543a7a8"
      },
      "execution_count": 119,
      "outputs": [
        {
          "output_type": "execute_result",
          "data": {
            "text/plain": [
              "[<p class=\"quote-head\">Цитата из книги «Над пропастью во ржи»</p>,\n",
              " <p>«\"Тело женщины - скрипка и что надо быть прекрасным музыкантом, чтобы заставить его звучать.\"</p>,\n",
              " <p>»</p>,\n",
              " <p class=\"count-like\"> <span id=\"req_res11985\">0</span></p>]"
            ]
          },
          "metadata": {},
          "execution_count": 119
        }
      ]
    },
    {
      "cell_type": "code",
      "source": [
        "book = q.findAll('p')[0].text[len('Цитата из книги «'):-1]\n",
        "book"
      ],
      "metadata": {
        "colab": {
          "base_uri": "https://localhost:8080/",
          "height": 36
        },
        "id": "ga0Ag9tZ1p0n",
        "outputId": "67e36563-afa3-48a4-9d46-2901f05fca70"
      },
      "execution_count": 120,
      "outputs": [
        {
          "output_type": "execute_result",
          "data": {
            "text/plain": [
              "'Над пропастью во ржи'"
            ],
            "application/vnd.google.colaboratory.intrinsic+json": {
              "type": "string"
            }
          },
          "metadata": {},
          "execution_count": 120
        }
      ]
    },
    {
      "cell_type": "code",
      "source": [
        "text = q.findAll('p')[1].text[1:]\n",
        "text"
      ],
      "metadata": {
        "colab": {
          "base_uri": "https://localhost:8080/",
          "height": 36
        },
        "id": "_rvPQKO11pyS",
        "outputId": "be7c745b-2b4a-423b-f16b-8714ff8f1d12"
      },
      "execution_count": 141,
      "outputs": [
        {
          "output_type": "execute_result",
          "data": {
            "text/plain": [
              "'\"Тело женщины - скрипка и что надо быть прекрасным музыкантом, чтобы заставить его звучать.\"'"
            ],
            "application/vnd.google.colaboratory.intrinsic+json": {
              "type": "string"
            }
          },
          "metadata": {},
          "execution_count": 141
        }
      ]
    },
    {
      "cell_type": "markdown",
      "source": [
        "#### Работа с одной страницей"
      ],
      "metadata": {
        "id": "W4mPuvWD687X"
      }
    },
    {
      "cell_type": "code",
      "source": [
        "quotes = soup.findAll('div', class_='quotesbook')\n",
        "len(quotes)"
      ],
      "metadata": {
        "colab": {
          "base_uri": "https://localhost:8080/"
        },
        "id": "H1AhARyI1pvp",
        "outputId": "ee5e5956-c4ba-4a93-aba8-a957c3c2a0af"
      },
      "execution_count": 122,
      "outputs": [
        {
          "output_type": "execute_result",
          "data": {
            "text/plain": [
              "20"
            ]
          },
          "metadata": {},
          "execution_count": 122
        }
      ]
    },
    {
      "cell_type": "code",
      "source": [
        "data = []"
      ],
      "metadata": {
        "id": "I155UV-Q7kRV"
      },
      "execution_count": 130,
      "outputs": []
    },
    {
      "cell_type": "code",
      "source": [
        "for quote in quotes:\n",
        "  try:\n",
        "    book_and_text = quote.findAll('p')\n",
        "  except:\n",
        "    continue\n",
        "\n",
        "  book = book_and_text[0].text[len('Цитата из книги «'):-1]\n",
        "  text = book_and_text[1].text[2:-1]\n",
        "\n",
        "  data.append([book, text])"
      ],
      "metadata": {
        "id": "IbkY6gd9uRo_"
      },
      "execution_count": 131,
      "outputs": []
    },
    {
      "cell_type": "code",
      "source": [
        "len(data)"
      ],
      "metadata": {
        "colab": {
          "base_uri": "https://localhost:8080/"
        },
        "id": "Jr1OGI3U8N76",
        "outputId": "29735a0b-0aa6-4fc7-8b8c-bbefc38c880e"
      },
      "execution_count": 132,
      "outputs": [
        {
          "output_type": "execute_result",
          "data": {
            "text/plain": [
              "20"
            ]
          },
          "metadata": {},
          "execution_count": 132
        }
      ]
    },
    {
      "cell_type": "code",
      "source": [
        "# data"
      ],
      "metadata": {
        "id": "A6jCdmGA8S5U"
      },
      "execution_count": null,
      "outputs": []
    },
    {
      "cell_type": "markdown",
      "source": [
        "#### Работа с несколькими страницами"
      ],
      "metadata": {
        "id": "d9s3T-Xa7Bp5"
      }
    },
    {
      "cell_type": "code",
      "source": [
        "headers = {\n",
        "    \"User-Agent\": \"Mozilla/5.0 (Windows NT 6.1; Win64; x64) AppleWebKit/537.36 (KHTML, like Gecko) Chrome/78.0.3904.87 Safari/537.36\",\n",
        "    \"Content-Type\":\"text\"\n",
        "}\n",
        "\n",
        "timeout=30\n",
        "\n",
        "data = []"
      ],
      "metadata": {
        "id": "7nETMXc_9mkI"
      },
      "execution_count": 150,
      "outputs": []
    },
    {
      "cell_type": "code",
      "source": [
        "for page in range(1,11):\n",
        "  url = f\"https://knigopoisk.org/quote/index?page={page}\"\n",
        "  r = requests.get(url, timeout=timeout, headers=headers)\n",
        "  sleep(3)\n",
        "  soup = BeautifulSoup(r.text, 'lxml')\n",
        "\n",
        "  quotes = soup.findAll('div', class_='quotesbook')\n",
        "\n",
        "  for quote in quotes:\n",
        "    try:\n",
        "      book_and_text = quote.findAll('p')\n",
        "    except:\n",
        "      continue\n",
        "\n",
        "    book = book_and_text[0].text[len('Цитата из книги «'):-1]\n",
        "    text = book_and_text[1].text[1:-1]\n",
        "\n",
        "    data.append([book, text])\n",
        "\n",
        "  print(page)\n"
      ],
      "metadata": {
        "colab": {
          "base_uri": "https://localhost:8080/"
        },
        "id": "rofWjWCN8-KY",
        "outputId": "e15f686a-00d8-4abd-ead1-1a4f67b9472b"
      },
      "execution_count": 155,
      "outputs": [
        {
          "output_type": "stream",
          "name": "stdout",
          "text": [
            "1\n",
            "2\n",
            "3\n",
            "4\n",
            "5\n",
            "6\n",
            "7\n",
            "8\n",
            "9\n",
            "10\n"
          ]
        }
      ]
    },
    {
      "cell_type": "code",
      "source": [
        "len(data)"
      ],
      "metadata": {
        "colab": {
          "base_uri": "https://localhost:8080/"
        },
        "id": "bQQYBbJl8-Hu",
        "outputId": "21e47f09-019c-4e77-8d75-feab25892db9"
      },
      "execution_count": 156,
      "outputs": [
        {
          "output_type": "execute_result",
          "data": {
            "text/plain": [
              "400"
            ]
          },
          "metadata": {},
          "execution_count": 156
        }
      ]
    },
    {
      "cell_type": "code",
      "source": [
        "table_head = ['book', 'text']\n",
        "df = pd.DataFrame(data, columns=table_head)"
      ],
      "metadata": {
        "id": "WtuXrpXE8-FH"
      },
      "execution_count": 157,
      "outputs": []
    },
    {
      "cell_type": "code",
      "source": [
        "df"
      ],
      "metadata": {
        "colab": {
          "base_uri": "https://localhost:8080/",
          "height": 423
        },
        "id": "4qHCVTQo8-Cb",
        "outputId": "b5ba3d76-bbb7-413b-9ef1-545138653606"
      },
      "execution_count": 161,
      "outputs": [
        {
          "output_type": "execute_result",
          "data": {
            "text/plain": [
              "                                            book  \\\n",
              "0                           Над пропастью во ржи   \n",
              "1                            Убить пересмешника…   \n",
              "2                                           1984   \n",
              "3    Куриный бульон для души: 101 лучшая история   \n",
              "4                                  Охота на царя   \n",
              "..                                           ...   \n",
              "395                               Госпожа Бовари   \n",
              "396                               Госпожа Бовари   \n",
              "397                               Госпожа Бовари   \n",
              "398                               Госпожа Бовари   \n",
              "399                               Госпожа Бовари   \n",
              "\n",
              "                                                  text  \n",
              "0    \"Тело женщины - скрипка и что надо быть прекра...  \n",
              "1    \"Человека по-настоящему узнаешь только тогда, ...  \n",
              "2    \"Они подобны муравью, который видит мелкое и н...  \n",
              "3    Жизнь всегда налаживается, когда вы начинаете ...  \n",
              "4    …государь попал под ее влияние... Он устал от ...  \n",
              "..                                                 ...  \n",
              "395  А между тем она была полна вожделений, яростны...  \n",
              "396  Он любил её чистой любовью, - такая любовь не ...  \n",
              "397    Я со всеми дамами лажу, кроме собственной жены!  \n",
              "398  Ничего, однако, достопримечательного не было в...  \n",
              "399  А Эмма даже не задавала себе вопроса, любит ли...  \n",
              "\n",
              "[400 rows x 2 columns]"
            ],
            "text/html": [
              "\n",
              "  <div id=\"df-c6df7206-b729-44c6-acd2-87948de93cf1\" class=\"colab-df-container\">\n",
              "    <div>\n",
              "<style scoped>\n",
              "    .dataframe tbody tr th:only-of-type {\n",
              "        vertical-align: middle;\n",
              "    }\n",
              "\n",
              "    .dataframe tbody tr th {\n",
              "        vertical-align: top;\n",
              "    }\n",
              "\n",
              "    .dataframe thead th {\n",
              "        text-align: right;\n",
              "    }\n",
              "</style>\n",
              "<table border=\"1\" class=\"dataframe\">\n",
              "  <thead>\n",
              "    <tr style=\"text-align: right;\">\n",
              "      <th></th>\n",
              "      <th>book</th>\n",
              "      <th>text</th>\n",
              "    </tr>\n",
              "  </thead>\n",
              "  <tbody>\n",
              "    <tr>\n",
              "      <th>0</th>\n",
              "      <td>Над пропастью во ржи</td>\n",
              "      <td>\"Тело женщины - скрипка и что надо быть прекра...</td>\n",
              "    </tr>\n",
              "    <tr>\n",
              "      <th>1</th>\n",
              "      <td>Убить пересмешника…</td>\n",
              "      <td>\"Человека по-настоящему узнаешь только тогда, ...</td>\n",
              "    </tr>\n",
              "    <tr>\n",
              "      <th>2</th>\n",
              "      <td>1984</td>\n",
              "      <td>\"Они подобны муравью, который видит мелкое и н...</td>\n",
              "    </tr>\n",
              "    <tr>\n",
              "      <th>3</th>\n",
              "      <td>Куриный бульон для души: 101 лучшая история</td>\n",
              "      <td>Жизнь всегда налаживается, когда вы начинаете ...</td>\n",
              "    </tr>\n",
              "    <tr>\n",
              "      <th>4</th>\n",
              "      <td>Охота на царя</td>\n",
              "      <td>…государь попал под ее влияние... Он устал от ...</td>\n",
              "    </tr>\n",
              "    <tr>\n",
              "      <th>...</th>\n",
              "      <td>...</td>\n",
              "      <td>...</td>\n",
              "    </tr>\n",
              "    <tr>\n",
              "      <th>395</th>\n",
              "      <td>Госпожа Бовари</td>\n",
              "      <td>А между тем она была полна вожделений, яростны...</td>\n",
              "    </tr>\n",
              "    <tr>\n",
              "      <th>396</th>\n",
              "      <td>Госпожа Бовари</td>\n",
              "      <td>Он любил её чистой любовью, - такая любовь не ...</td>\n",
              "    </tr>\n",
              "    <tr>\n",
              "      <th>397</th>\n",
              "      <td>Госпожа Бовари</td>\n",
              "      <td>Я со всеми дамами лажу, кроме собственной жены!</td>\n",
              "    </tr>\n",
              "    <tr>\n",
              "      <th>398</th>\n",
              "      <td>Госпожа Бовари</td>\n",
              "      <td>Ничего, однако, достопримечательного не было в...</td>\n",
              "    </tr>\n",
              "    <tr>\n",
              "      <th>399</th>\n",
              "      <td>Госпожа Бовари</td>\n",
              "      <td>А Эмма даже не задавала себе вопроса, любит ли...</td>\n",
              "    </tr>\n",
              "  </tbody>\n",
              "</table>\n",
              "<p>400 rows × 2 columns</p>\n",
              "</div>\n",
              "    <div class=\"colab-df-buttons\">\n",
              "\n",
              "  <div class=\"colab-df-container\">\n",
              "    <button class=\"colab-df-convert\" onclick=\"convertToInteractive('df-c6df7206-b729-44c6-acd2-87948de93cf1')\"\n",
              "            title=\"Convert this dataframe to an interactive table.\"\n",
              "            style=\"display:none;\">\n",
              "\n",
              "  <svg xmlns=\"http://www.w3.org/2000/svg\" height=\"24px\" viewBox=\"0 -960 960 960\">\n",
              "    <path d=\"M120-120v-720h720v720H120Zm60-500h600v-160H180v160Zm220 220h160v-160H400v160Zm0 220h160v-160H400v160ZM180-400h160v-160H180v160Zm440 0h160v-160H620v160ZM180-180h160v-160H180v160Zm440 0h160v-160H620v160Z\"/>\n",
              "  </svg>\n",
              "    </button>\n",
              "\n",
              "  <style>\n",
              "    .colab-df-container {\n",
              "      display:flex;\n",
              "      gap: 12px;\n",
              "    }\n",
              "\n",
              "    .colab-df-convert {\n",
              "      background-color: #E8F0FE;\n",
              "      border: none;\n",
              "      border-radius: 50%;\n",
              "      cursor: pointer;\n",
              "      display: none;\n",
              "      fill: #1967D2;\n",
              "      height: 32px;\n",
              "      padding: 0 0 0 0;\n",
              "      width: 32px;\n",
              "    }\n",
              "\n",
              "    .colab-df-convert:hover {\n",
              "      background-color: #E2EBFA;\n",
              "      box-shadow: 0px 1px 2px rgba(60, 64, 67, 0.3), 0px 1px 3px 1px rgba(60, 64, 67, 0.15);\n",
              "      fill: #174EA6;\n",
              "    }\n",
              "\n",
              "    .colab-df-buttons div {\n",
              "      margin-bottom: 4px;\n",
              "    }\n",
              "\n",
              "    [theme=dark] .colab-df-convert {\n",
              "      background-color: #3B4455;\n",
              "      fill: #D2E3FC;\n",
              "    }\n",
              "\n",
              "    [theme=dark] .colab-df-convert:hover {\n",
              "      background-color: #434B5C;\n",
              "      box-shadow: 0px 1px 3px 1px rgba(0, 0, 0, 0.15);\n",
              "      filter: drop-shadow(0px 1px 2px rgba(0, 0, 0, 0.3));\n",
              "      fill: #FFFFFF;\n",
              "    }\n",
              "  </style>\n",
              "\n",
              "    <script>\n",
              "      const buttonEl =\n",
              "        document.querySelector('#df-c6df7206-b729-44c6-acd2-87948de93cf1 button.colab-df-convert');\n",
              "      buttonEl.style.display =\n",
              "        google.colab.kernel.accessAllowed ? 'block' : 'none';\n",
              "\n",
              "      async function convertToInteractive(key) {\n",
              "        const element = document.querySelector('#df-c6df7206-b729-44c6-acd2-87948de93cf1');\n",
              "        const dataTable =\n",
              "          await google.colab.kernel.invokeFunction('convertToInteractive',\n",
              "                                                    [key], {});\n",
              "        if (!dataTable) return;\n",
              "\n",
              "        const docLinkHtml = 'Like what you see? Visit the ' +\n",
              "          '<a target=\"_blank\" href=https://colab.research.google.com/notebooks/data_table.ipynb>data table notebook</a>'\n",
              "          + ' to learn more about interactive tables.';\n",
              "        element.innerHTML = '';\n",
              "        dataTable['output_type'] = 'display_data';\n",
              "        await google.colab.output.renderOutput(dataTable, element);\n",
              "        const docLink = document.createElement('div');\n",
              "        docLink.innerHTML = docLinkHtml;\n",
              "        element.appendChild(docLink);\n",
              "      }\n",
              "    </script>\n",
              "  </div>\n",
              "\n",
              "\n",
              "<div id=\"df-ea221722-8325-435f-a909-a434b20081c2\">\n",
              "  <button class=\"colab-df-quickchart\" onclick=\"quickchart('df-ea221722-8325-435f-a909-a434b20081c2')\"\n",
              "            title=\"Suggest charts\"\n",
              "            style=\"display:none;\">\n",
              "\n",
              "<svg xmlns=\"http://www.w3.org/2000/svg\" height=\"24px\"viewBox=\"0 0 24 24\"\n",
              "     width=\"24px\">\n",
              "    <g>\n",
              "        <path d=\"M19 3H5c-1.1 0-2 .9-2 2v14c0 1.1.9 2 2 2h14c1.1 0 2-.9 2-2V5c0-1.1-.9-2-2-2zM9 17H7v-7h2v7zm4 0h-2V7h2v10zm4 0h-2v-4h2v4z\"/>\n",
              "    </g>\n",
              "</svg>\n",
              "  </button>\n",
              "\n",
              "<style>\n",
              "  .colab-df-quickchart {\n",
              "      --bg-color: #E8F0FE;\n",
              "      --fill-color: #1967D2;\n",
              "      --hover-bg-color: #E2EBFA;\n",
              "      --hover-fill-color: #174EA6;\n",
              "      --disabled-fill-color: #AAA;\n",
              "      --disabled-bg-color: #DDD;\n",
              "  }\n",
              "\n",
              "  [theme=dark] .colab-df-quickchart {\n",
              "      --bg-color: #3B4455;\n",
              "      --fill-color: #D2E3FC;\n",
              "      --hover-bg-color: #434B5C;\n",
              "      --hover-fill-color: #FFFFFF;\n",
              "      --disabled-bg-color: #3B4455;\n",
              "      --disabled-fill-color: #666;\n",
              "  }\n",
              "\n",
              "  .colab-df-quickchart {\n",
              "    background-color: var(--bg-color);\n",
              "    border: none;\n",
              "    border-radius: 50%;\n",
              "    cursor: pointer;\n",
              "    display: none;\n",
              "    fill: var(--fill-color);\n",
              "    height: 32px;\n",
              "    padding: 0;\n",
              "    width: 32px;\n",
              "  }\n",
              "\n",
              "  .colab-df-quickchart:hover {\n",
              "    background-color: var(--hover-bg-color);\n",
              "    box-shadow: 0 1px 2px rgba(60, 64, 67, 0.3), 0 1px 3px 1px rgba(60, 64, 67, 0.15);\n",
              "    fill: var(--button-hover-fill-color);\n",
              "  }\n",
              "\n",
              "  .colab-df-quickchart-complete:disabled,\n",
              "  .colab-df-quickchart-complete:disabled:hover {\n",
              "    background-color: var(--disabled-bg-color);\n",
              "    fill: var(--disabled-fill-color);\n",
              "    box-shadow: none;\n",
              "  }\n",
              "\n",
              "  .colab-df-spinner {\n",
              "    border: 2px solid var(--fill-color);\n",
              "    border-color: transparent;\n",
              "    border-bottom-color: var(--fill-color);\n",
              "    animation:\n",
              "      spin 1s steps(1) infinite;\n",
              "  }\n",
              "\n",
              "  @keyframes spin {\n",
              "    0% {\n",
              "      border-color: transparent;\n",
              "      border-bottom-color: var(--fill-color);\n",
              "      border-left-color: var(--fill-color);\n",
              "    }\n",
              "    20% {\n",
              "      border-color: transparent;\n",
              "      border-left-color: var(--fill-color);\n",
              "      border-top-color: var(--fill-color);\n",
              "    }\n",
              "    30% {\n",
              "      border-color: transparent;\n",
              "      border-left-color: var(--fill-color);\n",
              "      border-top-color: var(--fill-color);\n",
              "      border-right-color: var(--fill-color);\n",
              "    }\n",
              "    40% {\n",
              "      border-color: transparent;\n",
              "      border-right-color: var(--fill-color);\n",
              "      border-top-color: var(--fill-color);\n",
              "    }\n",
              "    60% {\n",
              "      border-color: transparent;\n",
              "      border-right-color: var(--fill-color);\n",
              "    }\n",
              "    80% {\n",
              "      border-color: transparent;\n",
              "      border-right-color: var(--fill-color);\n",
              "      border-bottom-color: var(--fill-color);\n",
              "    }\n",
              "    90% {\n",
              "      border-color: transparent;\n",
              "      border-bottom-color: var(--fill-color);\n",
              "    }\n",
              "  }\n",
              "</style>\n",
              "\n",
              "  <script>\n",
              "    async function quickchart(key) {\n",
              "      const quickchartButtonEl =\n",
              "        document.querySelector('#' + key + ' button');\n",
              "      quickchartButtonEl.disabled = true;  // To prevent multiple clicks.\n",
              "      quickchartButtonEl.classList.add('colab-df-spinner');\n",
              "      try {\n",
              "        const charts = await google.colab.kernel.invokeFunction(\n",
              "            'suggestCharts', [key], {});\n",
              "      } catch (error) {\n",
              "        console.error('Error during call to suggestCharts:', error);\n",
              "      }\n",
              "      quickchartButtonEl.classList.remove('colab-df-spinner');\n",
              "      quickchartButtonEl.classList.add('colab-df-quickchart-complete');\n",
              "    }\n",
              "    (() => {\n",
              "      let quickchartButtonEl =\n",
              "        document.querySelector('#df-ea221722-8325-435f-a909-a434b20081c2 button');\n",
              "      quickchartButtonEl.style.display =\n",
              "        google.colab.kernel.accessAllowed ? 'block' : 'none';\n",
              "    })();\n",
              "  </script>\n",
              "</div>\n",
              "    </div>\n",
              "  </div>\n"
            ]
          },
          "metadata": {},
          "execution_count": 161
        }
      ]
    }
  ]
}